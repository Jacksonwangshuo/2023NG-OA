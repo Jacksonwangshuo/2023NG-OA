{
 "cells": [
  {
   "cell_type": "code",
   "execution_count": 57,
   "id": "0416dd6b",
   "metadata": {},
   "outputs": [],
   "source": [
    "import pandas as pd\n",
    "import json"
   ]
  },
  {
   "cell_type": "code",
   "execution_count": 152,
   "id": "a8bd7ba9",
   "metadata": {},
   "outputs": [],
   "source": [
    "#get the output from the information we get\n",
    "def get_output(res):\n",
    "    ans = [[] for _ in range(len(res))]\n",
    "    index = 0\n",
    "    for key, values in res.items():\n",
    "        for i in range(len(values)):\n",
    "            if i == 0:\n",
    "                ans[index].append((''.join(str(values[i]).split('/'))))\n",
    "            elif i == 3:\n",
    "                ans[index].append(ans[index][-1])\n",
    "            elif i>3:\n",
    "                tmp = []\n",
    "                for tms in str(values[i]).split('/'):\n",
    "                    for tm in tms.split('.'):\n",
    "                        tmp.append(tm.strip())\n",
    "                for con in tmp:\n",
    "                    con_tmps = con.split(' ')\n",
    "                    for con_tmp in con_tmps:\n",
    "                        ans[index].append(con_tmp.strip())\n",
    "        \n",
    "        number = 13-len(ans[index])\n",
    "        if number>0:\n",
    "            for i in range(number):\n",
    "                if i == 0:\n",
    "                    ans[index].insert(3, '')\n",
    "                else:\n",
    "                    ans[index].insert(i+5, '')\n",
    "        index+=1\n",
    "    return ans"
   ]
  },
  {
   "cell_type": "code",
   "execution_count": 165,
   "id": "e2b102da",
   "metadata": {},
   "outputs": [],
   "source": [
    "#get the information from the dataFrame\n",
    "def helper(df):\n",
    "    res = {}\n",
    "    res[1] = []\n",
    "    tmp = 1\n",
    "    for i in range(len(df)):\n",
    "        block = df.loc[i]\n",
    "        if (block['Text'].isdigit() and i == 0) or (i > 0 and block['BoundingBox_Left']<df.loc[i-1]['BoundingBox_Left'] and block['Text'].isdigit()):\n",
    "            res[int(block['Text'])] = []\n",
    "            tmp = int(block['Text'])\n",
    "        elif i>0 and block['BoundingBox_Left']>df.loc[i-1]['BoundingBox_Left']:\n",
    "            res[tmp].append(block['Text'])\n",
    "    \n",
    "    new_d = {}\n",
    "    prev= None\n",
    "    for k, v in res.items():\n",
    "        if v:\n",
    "            new_d[k] = v\n",
    "            prev=k\n",
    "        else:\n",
    "            if prev:\n",
    "                new_d[prev].append(k)\n",
    "\n",
    "    return new_d"
   ]
  },
  {
   "cell_type": "code",
   "execution_count": 166,
   "id": "092f8626",
   "metadata": {
    "scrolled": true
   },
   "outputs": [
    {
     "name": "stdout",
     "output_type": "stream",
     "text": [
      "{'testimage1': [['111020', '111020', '21', '', '95910', '5', '', '', '9', 'in', '1354', '100', 'R'], ['111020', '111020', '21', '', '95861', 'IC', '', '', '', 'A', '3460', 'too', '7'], ['171020', '171020', '20', '2', '1', '9', '5', '9', '2', 'Z', 'TC', 'A', '2664', '100', '1'], ['111020', '111020', '21', '', '95938', 'TO', '', '', '2013', '00', '1', '', ''], ['111020', '111020', '2', '', '95937', 'TC', '', '', '', 'A', '1890', '00', '1'], ['111020', '111020', '2', '', '1', '9595,5', '', '', 'TO', 'A', '4216', 'top', '1']]}\n",
      "{'testimage1': [['111020', '111020', '21', '', '95910', '5', '', '', '9', 'in', '1354', '100', 'R'], ['111020', '111020', '21', '', '95861', 'IC', '', '', '', 'A', '3460', 'too', '7'], ['171020', '171020', '20', '2', '1', '9', '5', '9', '2', 'Z', 'TC', 'A', '2664', '100', '1'], ['111020', '111020', '21', '', '95938', 'TO', '', '', '2013', '00', '1', '', ''], ['111020', '111020', '2', '', '95937', 'TC', '', '', '', 'A', '1890', '00', '1'], ['111020', '111020', '2', '', '1', '9595,5', '', '', 'TO', 'A', '4216', 'top', '1']], 'testimage2': [['E', 'E', '90286', '', '', '', '', '', '', '', '', '', '']]}\n",
      "{'testimage1': [['111020', '111020', '21', '', '95910', '5', '', '', '9', 'in', '1354', '100', 'R'], ['111020', '111020', '21', '', '95861', 'IC', '', '', '', 'A', '3460', 'too', '7'], ['171020', '171020', '20', '2', '1', '9', '5', '9', '2', 'Z', 'TC', 'A', '2664', '100', '1'], ['111020', '111020', '21', '', '95938', 'TO', '', '', '2013', '00', '1', '', ''], ['111020', '111020', '2', '', '95937', 'TC', '', '', '', 'A', '1890', '00', '1'], ['111020', '111020', '2', '', '1', '9595,5', '', '', 'TO', 'A', '4216', 'top', '1']], 'testimage2': [['E', 'E', '90286', '', '', '', '', '', '', '', '', '', '']], 'testimage3': [['12', '12', '09', '20', '11', 'N', '90834', 'U6', '1', '69', '74', '1', '00'], ['12', '12', '09', '', '20', '11', 'N', '110048', '1', '14', '48', '1', '00'], ['4', '4', '', '', '', '', '', '', '', '', '', '', ''], ['*', '', '', '', '', '', '', '', '', '', '', '', '']]}\n",
      "{'testimage1': [['111020', '111020', '21', '', '95910', '5', '', '', '9', 'in', '1354', '100', 'R'], ['111020', '111020', '21', '', '95861', 'IC', '', '', '', 'A', '3460', 'too', '7'], ['171020', '171020', '20', '2', '1', '9', '5', '9', '2', 'Z', 'TC', 'A', '2664', '100', '1'], ['111020', '111020', '21', '', '95938', 'TO', '', '', '2013', '00', '1', '', ''], ['111020', '111020', '2', '', '95937', 'TC', '', '', '', 'A', '1890', '00', '1'], ['111020', '111020', '2', '', '1', '9595,5', '', '', 'TO', 'A', '4216', 'top', '1']], 'testimage2': [['E', 'E', '90286', '', '', '', '', '', '', '', '', '', '']], 'testimage3': [['12', '12', '09', '20', '11', 'N', '90834', 'U6', '1', '69', '74', '1', '00'], ['12', '12', '09', '', '20', '11', 'N', '110048', '1', '14', '48', '1', '00'], ['4', '4', '', '', '', '', '', '', '', '', '', '', ''], ['*', '', '', '', '', '', '', '', '', '', '', '', '']], 'testimage4': [['11092020', '11092020', 'A', '', '80:00', '1', '', '', '', '', '', '', ''], ['3', '3', 'J', '', '', '', '', '', '', '', '', '', '']]}\n",
      "{'testimage1': [['111020', '111020', '21', '', '95910', '5', '', '', '9', 'in', '1354', '100', 'R'], ['111020', '111020', '21', '', '95861', 'IC', '', '', '', 'A', '3460', 'too', '7'], ['171020', '171020', '20', '2', '1', '9', '5', '9', '2', 'Z', 'TC', 'A', '2664', '100', '1'], ['111020', '111020', '21', '', '95938', 'TO', '', '', '2013', '00', '1', '', ''], ['111020', '111020', '2', '', '95937', 'TC', '', '', '', 'A', '1890', '00', '1'], ['111020', '111020', '2', '', '1', '9595,5', '', '', 'TO', 'A', '4216', 'top', '1']], 'testimage2': [['E', 'E', '90286', '', '', '', '', '', '', '', '', '', '']], 'testimage3': [['12', '12', '09', '20', '11', 'N', '90834', 'U6', '1', '69', '74', '1', '00'], ['12', '12', '09', '', '20', '11', 'N', '110048', '1', '14', '48', '1', '00'], ['4', '4', '', '', '', '', '', '', '', '', '', '', ''], ['*', '', '', '', '', '', '', '', '', '', '', '', '']], 'testimage4': [['11092020', '11092020', 'A', '', '80:00', '1', '', '', '', '', '', '', ''], ['3', '3', 'J', '', '', '', '', '', '', '', '', '', '']], 'testimage5': [['08 10 20', '08 10 20', '12', '', 'A5500', 'RT', '', '', '', 'ABC', '90', '00', '1'], ['08 10 20', '08 10 20', '20', '', '12', 'A5513', '', '', 'RT', 'ABC', '690', '00', '3'], ['08. 10 20', '08. 10 20', 'l', '', '12', 'L3390', '', 'LT', 'AC', '60', '00', 'I', '1'], ['08 10 20', '08 10 20', '12', '', 'L3390', 'RT', '', '', '', 'ABC', '60', '00', '1']]}\n"
     ]
    }
   ],
   "source": [
    "output = {}\n",
    "for i in range(5):\n",
    "    path = './Rule14 Interview Sample Problem/Rule14 Interview Sample Problem/OCR/testimage'+str(i+1)+'.json'\n",
    "    with open(path, 'r') as f:\n",
    "        data = json.load(f)\n",
    "    \n",
    "    text_list = []\n",
    "    for block in data['Blocks']:\n",
    "        if block['BlockType'] == 'LINE':\n",
    "            bbox = block['Geometry']['BoundingBox']\n",
    "            polygon = block['Geometry']['Polygon']\n",
    "            polygon_x = []\n",
    "            polygon_y = []\n",
    "            for point in polygon:\n",
    "                polygon_x.append(point['X'])\n",
    "                polygon_y.append(point['Y'])\n",
    "            text_list.append({\n",
    "                'Text': block['Text'],\n",
    "                'Confidence': block['Confidence'],\n",
    "                'BoundingBox_Left': bbox['Left'],\n",
    "                'BoundingBox_Top': bbox['Top'],\n",
    "                'BoundingBox_Width': bbox['Width'],\n",
    "                'BoundingBox_Height': bbox['Height'],\n",
    "                'Polygon_X': polygon_x,\n",
    "                'Polygon_Y': polygon_y\n",
    "            })\n",
    "\n",
    "    df = pd.DataFrame(text_list)\n",
    "    res = helper(df)\n",
    "    da = get_output(res)\n",
    "    output[str('testimage'+'{}'.format(i+1))] = da\n",
    "    #print(output)"
   ]
  },
  {
   "cell_type": "code",
   "execution_count": 167,
   "id": "3192e90d",
   "metadata": {},
   "outputs": [],
   "source": [
    "json_str = json.dumps(output)\n",
    "\n",
    "with open('shuo_wang_results.json', 'w') as f:\n",
    "    f.write(json_str)"
   ]
  },
  {
   "cell_type": "code",
   "execution_count": null,
   "id": "c9c44cb7",
   "metadata": {},
   "outputs": [],
   "source": []
  },
  {
   "cell_type": "code",
   "execution_count": null,
   "id": "d4608ec3",
   "metadata": {},
   "outputs": [],
   "source": []
  },
  {
   "cell_type": "code",
   "execution_count": null,
   "id": "9ed7782f",
   "metadata": {},
   "outputs": [],
   "source": []
  },
  {
   "cell_type": "code",
   "execution_count": null,
   "id": "d6cb1b5e",
   "metadata": {},
   "outputs": [],
   "source": []
  }
 ],
 "metadata": {
  "kernelspec": {
   "display_name": "Python 3 (ipykernel)",
   "language": "python",
   "name": "python3"
  },
  "language_info": {
   "codemirror_mode": {
    "name": "ipython",
    "version": 3
   },
   "file_extension": ".py",
   "mimetype": "text/x-python",
   "name": "python",
   "nbconvert_exporter": "python",
   "pygments_lexer": "ipython3",
   "version": "3.9.12"
  }
 },
 "nbformat": 4,
 "nbformat_minor": 5
}
