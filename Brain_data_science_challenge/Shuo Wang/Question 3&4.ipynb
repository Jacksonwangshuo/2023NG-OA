{
 "cells": [
  {
   "cell_type": "code",
   "execution_count": 21,
   "id": "1e392e39",
   "metadata": {},
   "outputs": [],
   "source": [
    "import pandas as pd\n",
    "import numpy as np\n",
    "import matplotlib.pyplot as plt\n",
    "from sklearn.linear_model import LinearRegression\n",
    "from sklearn.metrics import mean_squared_error"
   ]
  },
  {
   "cell_type": "markdown",
   "id": "06757d67",
   "metadata": {},
   "source": [
    "# Question 3"
   ]
  },
  {
   "cell_type": "code",
   "execution_count": 13,
   "id": "756c5405",
   "metadata": {},
   "outputs": [],
   "source": [
    "# load the data from a CSV file\n",
    "data = pd.read_csv('data_science_challenge/data_science_challenge/scatter.csv')"
   ]
  },
  {
   "cell_type": "code",
   "execution_count": 14,
   "id": "63388987",
   "metadata": {},
   "outputs": [
    {
     "data": {
      "text/html": [
       "<div>\n",
       "<style scoped>\n",
       "    .dataframe tbody tr th:only-of-type {\n",
       "        vertical-align: middle;\n",
       "    }\n",
       "\n",
       "    .dataframe tbody tr th {\n",
       "        vertical-align: top;\n",
       "    }\n",
       "\n",
       "    .dataframe thead th {\n",
       "        text-align: right;\n",
       "    }\n",
       "</style>\n",
       "<table border=\"1\" class=\"dataframe\">\n",
       "  <thead>\n",
       "    <tr style=\"text-align: right;\">\n",
       "      <th></th>\n",
       "      <th>x</th>\n",
       "      <th>y</th>\n",
       "    </tr>\n",
       "  </thead>\n",
       "  <tbody>\n",
       "    <tr>\n",
       "      <th>0</th>\n",
       "      <td>18.212036</td>\n",
       "      <td>-1.339505</td>\n",
       "    </tr>\n",
       "    <tr>\n",
       "      <th>1</th>\n",
       "      <td>13.589432</td>\n",
       "      <td>-0.362639</td>\n",
       "    </tr>\n",
       "    <tr>\n",
       "      <th>2</th>\n",
       "      <td>26.419547</td>\n",
       "      <td>-0.976902</td>\n",
       "    </tr>\n",
       "    <tr>\n",
       "      <th>3</th>\n",
       "      <td>8.385861</td>\n",
       "      <td>0.254355</td>\n",
       "    </tr>\n",
       "    <tr>\n",
       "      <th>4</th>\n",
       "      <td>17.379218</td>\n",
       "      <td>0.119563</td>\n",
       "    </tr>\n",
       "    <tr>\n",
       "      <th>...</th>\n",
       "      <td>...</td>\n",
       "      <td>...</td>\n",
       "    </tr>\n",
       "    <tr>\n",
       "      <th>95</th>\n",
       "      <td>12.804362</td>\n",
       "      <td>0.367318</td>\n",
       "    </tr>\n",
       "    <tr>\n",
       "      <th>96</th>\n",
       "      <td>22.789449</td>\n",
       "      <td>-1.008340</td>\n",
       "    </tr>\n",
       "    <tr>\n",
       "      <th>97</th>\n",
       "      <td>24.736929</td>\n",
       "      <td>-1.025019</td>\n",
       "    </tr>\n",
       "    <tr>\n",
       "      <th>98</th>\n",
       "      <td>-5.012734</td>\n",
       "      <td>-0.835878</td>\n",
       "    </tr>\n",
       "    <tr>\n",
       "      <th>99</th>\n",
       "      <td>3.049343</td>\n",
       "      <td>0.320160</td>\n",
       "    </tr>\n",
       "  </tbody>\n",
       "</table>\n",
       "<p>100 rows × 2 columns</p>\n",
       "</div>"
      ],
      "text/plain": [
       "            x         y\n",
       "0   18.212036 -1.339505\n",
       "1   13.589432 -0.362639\n",
       "2   26.419547 -0.976902\n",
       "3    8.385861  0.254355\n",
       "4   17.379218  0.119563\n",
       "..        ...       ...\n",
       "95  12.804362  0.367318\n",
       "96  22.789449 -1.008340\n",
       "97  24.736929 -1.025019\n",
       "98  -5.012734 -0.835878\n",
       "99   3.049343  0.320160\n",
       "\n",
       "[100 rows x 2 columns]"
      ]
     },
     "execution_count": 14,
     "metadata": {},
     "output_type": "execute_result"
    }
   ],
   "source": [
    "data"
   ]
  },
  {
   "cell_type": "code",
   "execution_count": 16,
   "id": "2bee86d7",
   "metadata": {},
   "outputs": [],
   "source": [
    "# extract the x and y values from the data\n",
    "# take the values in the 'x' and 'y' column of the DataFrame 'data' \n",
    "# and reshapes them into a 2D numpy array with one column and as many rows as there are values in the 'x' or 'y' column. \n",
    "# The '-1' in the reshape function is a placeholder for an unknown dimension, which numpy infers based on the size of \n",
    "# the other dimension and the number of elements in the array. \n",
    "# By reshaping the data in this way, it can be used as input to machine learning models that require 2D arrays as input.\n",
    "x = data['x'].values.reshape(-1, 1)\n",
    "y = data['y'].values.reshape(-1, 1)"
   ]
  },
  {
   "cell_type": "code",
   "execution_count": 17,
   "id": "1a3300b4",
   "metadata": {},
   "outputs": [
    {
     "data": {
      "text/plain": [
       "<matplotlib.collections.PathCollection at 0x1fc8e4f7f10>"
      ]
     },
     "execution_count": 17,
     "metadata": {},
     "output_type": "execute_result"
    },
    {
     "data": {
      "image/png": "[encoded data removed]",
      "text/plain": [
       "<Figure size 432x288 with 1 Axes>"
      ]
     },
     "metadata": {
      "needs_background": "light"
     },
     "output_type": "display_data"
    }
   ],
   "source": [
    "# plot the data as a scatter plot\n",
    "plt.scatter(x, y)"
   ]
  },
  {
   "cell_type": "markdown",
   "id": "0669217d",
   "metadata": {},
   "source": [
    "From the plot, we could see the data in data.csv is very scattered.\n",
    "It can be difficult to interpret the linear regression. The linear regression line may not accurately represent the relationship between the two variables, and the R-squared value may be low, indicating that the model does not explain much of the variation in the data. Additionally, the slope of the regression line may not be meaningful or useful in making predictions or drawing conclusions about the data. It is important to consider the context of the data and the limitations of the linear regression model when interpreting the results."
   ]
  },
  {
   "cell_type": "code",
   "execution_count": 23,
   "id": "825cf027",
   "metadata": {},
   "outputs": [],
   "source": [
    "# If we try linear regression...\n",
    "# perform linear regression on the data\n",
    "reg = LinearRegression().fit(x, y)"
   ]
  },
  {
   "cell_type": "code",
   "execution_count": 10,
   "id": "fb437fbd",
   "metadata": {},
   "outputs": [],
   "source": [
    "# get the slope and intercept of the regression line\n",
    "slope = reg.coef_[0][0]\n",
    "intercept = reg.intercept_[0]"
   ]
  },
  {
   "cell_type": "code",
   "execution_count": 20,
   "id": "9af60e36",
   "metadata": {},
   "outputs": [
    {
     "data": {
      "image/png": "[encoded data removed]",
      "text/plain": [
       "<Figure size 432x288 with 1 Axes>"
      ]
     },
     "metadata": {
      "needs_background": "light"
     },
     "output_type": "display_data"
    }
   ],
   "source": [
    "# plot the regression line on top of the scatter plot\n",
    "plt.plot(x, slope * x + intercept, color='red')\n",
    "# plt.plot(x, model.predict(x), color='red')\n",
    "# add labels and title to the plot\n",
    "plt.xlabel('x')\n",
    "plt.ylabel('y')\n",
    "plt.title('Scatter Plot with Linear Regression')\n",
    "\n",
    "# show the plot\n",
    "plt.show()"
   ]
  },
  {
   "cell_type": "code",
   "execution_count": 22,
   "id": "5a9a9f85",
   "metadata": {},
   "outputs": [
    {
     "name": "stdout",
     "output_type": "stream",
     "text": [
      "Mean Squared Error: 0.7458495139323886\n"
     ]
    }
   ],
   "source": [
    "y_pred = reg.predict(x)\n",
    "mse = mean_squared_error(y, y_pred)\n",
    "\n",
    "print(\"Mean Squared Error:\", mse)"
   ]
  },
  {
   "cell_type": "markdown",
   "id": "a6c4a4df",
   "metadata": {},
   "source": [
    "The calculated mean squared error (MSE) is 0.74, it means that the average squared difference between the predicted values from the linear regression model and the actual values in the dataset is 0.74. A lower MSE indicates a better fit of the model to the data. In this case, an MSE of 0.74 may suggest that the linear regression model has some degree of error or variability in its predictions."
   ]
  },
  {
   "cell_type": "markdown",
   "id": "c7ae366c",
   "metadata": {},
   "source": [
    "The linear regression shows that there is a positive correlation between the x and y variables, meaning that as x increases, y tends to increase as well. However, the scattered data points around the regression line indicate that the relationship between the two variables is not perfect and there is some degree of variability or noise in the data. Therefore, the linear regression may not provide the most accurate predictions or explanations for the relationship between x and y."
   ]
  },
  {
   "cell_type": "markdown",
   "id": "c1824718",
   "metadata": {},
   "source": [
    "# Question 4"
   ]
  },
  {
   "cell_type": "code",
   "execution_count": 24,
   "id": "ed710cfe",
   "metadata": {},
   "outputs": [
    {
     "data": {
      "image/png": "[encoded data removed]",
      "text/plain": [
       "<Figure size 432x288 with 1 Axes>"
      ]
     },
     "metadata": {
      "needs_background": "light"
     },
     "output_type": "display_data"
    }
   ],
   "source": [
    "x = data[\"x\"]\n",
    "\n",
    "# Plot histogram\n",
    "plt.hist(x, bins=10)\n",
    "plt.title(\"Histogram of X Values\")\n",
    "plt.xlabel(\"X Values\")\n",
    "plt.ylabel(\"Frequency\")\n",
    "plt.show()"
   ]
  }
 ],
 "metadata": {
  "kernelspec": {
   "display_name": "Python 3 (ipykernel)",
   "language": "python",
   "name": "python3"
  },
  "language_info": {
   "codemirror_mode": {
    "name": "ipython",
    "version": 3
   },
   "file_extension": ".py",
   "mimetype": "text/x-python",
   "name": "python",
   "nbconvert_exporter": "python",
   "pygments_lexer": "ipython3",
   "version": "3.9.12"
  }
 },
 "nbformat": 4,
 "nbformat_minor": 5
}
