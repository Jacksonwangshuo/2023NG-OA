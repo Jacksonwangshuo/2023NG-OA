{
 "cells": [
  {
   "cell_type": "markdown",
   "metadata": {},
   "source": [
    "1. Condensed List"
   ]
  },
  {
   "cell_type": "code",
   "execution_count": 1,
   "metadata": {},
   "outputs": [],
   "source": [
    "# Definition for singly-linked list.\n",
    "class ListNode:\n",
    "    def __init__(self, val=0, next=None):\n",
    "        self.val = val\n",
    "        self.next = next"
   ]
  },
  {
   "cell_type": "code",
   "execution_count": 4,
   "metadata": {},
   "outputs": [],
   "source": [
    "def removeElements(head, val):\n",
    "    dummy_head = ListNode(next = head) #添加虚拟节点\n",
    "    cur = dummy_head\n",
    "    while cur.next != None:\n",
    "        if cur.next.val == val:\n",
    "            cur.next = cur.next.next\n",
    "        else:\n",
    "            cur = cur.next\n",
    "\n",
    "    return dummy_head.next"
   ]
  },
  {
   "cell_type": "code",
   "execution_count": 10,
   "metadata": {},
   "outputs": [
    {
     "data": {
      "text/plain": [
       "<__main__.ListNode at 0x241a6f67d60>"
      ]
     },
     "execution_count": 10,
     "metadata": {},
     "output_type": "execute_result"
    }
   ],
   "source": [
    "head = ListNode([1,2,6,3,4,5,6])\n",
    "val = 6\n",
    "\n",
    "removeElements(head, val)"
   ]
  },
  {
   "cell_type": "markdown",
   "metadata": {},
   "source": [
    "2. Palindrome Counter\n",
    "\n",
    "Suppose we have a string s, we have to find the number of palindromic substrings in s.\n",
    "\n",
    "So, if the input is like s = \"level\", then the output will be 7, as the palindromic substrings are: [\"l\",\"e\",\"v\",\"e\",\"l\",\"eve\",\"level\"]"
   ]
  },
  {
   "cell_type": "code",
   "execution_count": 15,
   "metadata": {},
   "outputs": [],
   "source": [
    "class Solution:\n",
    "   def solve(self, s):\n",
    "      def check_palindrome(string, left, right):\n",
    "         ans = 0\n",
    "         while left >= 0 and right < len(s):\n",
    "            if s[left] == s[right]:\n",
    "               ans += 1\n",
    "               left -= 1\n",
    "               right += 1\n",
    "            else:\n",
    "               return ans\n",
    "         return ans\n",
    "      ans = 0\n",
    "      for char_index in range(len(s)):\n",
    "         ans += check_palindrome(s, char_index - 1, char_index + 1)\n",
    "         ans += check_palindrome(s, char_index, char_index + 1)\n",
    "      return (ans) + len(s)"
   ]
  },
  {
   "cell_type": "code",
   "execution_count": 16,
   "metadata": {},
   "outputs": [
    {
     "name": "stdout",
     "output_type": "stream",
     "text": [
      "7\n"
     ]
    }
   ],
   "source": [
    "ob = Solution()\n",
    "print(ob.solve(\"level\"))"
   ]
  },
  {
   "cell_type": "markdown",
   "metadata": {},
   "source": [
    "3. Cardinality Sorting"
   ]
  },
  {
   "cell_type": "code",
   "execution_count": 17,
   "metadata": {},
   "outputs": [
    {
     "name": "stdout",
     "output_type": "stream",
     "text": [
      "[1, 3, 4, 5, 45, 65, 67, 100, 898]\n"
     ]
    }
   ],
   "source": [
    "def cardinality_sort(nums):\n",
    "        \n",
    "        n = max([len(str(x)) for x in nums])\n",
    "        for i in range(1, n + 1):\n",
    "            tank = [[] for _ in range(10)]\n",
    " \n",
    "            for j in range(len(nums)):\n",
    "                if len(str(nums[j])) >= i:\n",
    "                    tank[int(str(nums[j])[-1 * i])].append(nums[j])\n",
    "                else:\n",
    "                    tank[0].append(nums[j])\n",
    "            nums.clear()\n",
    "            for k in range(10):\n",
    "                for x in tank[k]:\n",
    "                    nums.append(x)\n",
    " \n",
    "nums = [1, 5, 4, 3, 100, 898, 67, 45, 65]\n",
    "cardinality_sort(nums)\n",
    "print(nums)"
   ]
  },
  {
   "cell_type": "markdown",
   "metadata": {},
   "source": [
    "4. LC1328 Break a Palindrome"
   ]
  },
  {
   "cell_type": "code",
   "execution_count": 18,
   "metadata": {},
   "outputs": [],
   "source": [
    "class Solution:\n",
    "    def breakPalindrome(self, palindrome: str) -> str:\n",
    "        if len(palindrome)<2:return ''\n",
    "        quack=len(palindrome)%2\n",
    "        r=list(range(len(palindrome)//2))+list(range(len(palindrome)//2+1,len(palindrome))) if quack else range(len(palindrome))\n",
    "        for i in r:\n",
    "            if palindrome[i]!='a':return palindrome[:i]+'a'+palindrome[i+1:]\n",
    "        return palindrome[:-1]+'b'"
   ]
  },
  {
   "cell_type": "markdown",
   "metadata": {},
   "source": [
    "5. How Many Sentences"
   ]
  },
  {
   "cell_type": "code",
   "execution_count": 19,
   "metadata": {},
   "outputs": [],
   "source": [
    "def solution(words, sentences):\n",
    "    word_map = {}\n",
    "    for word in words:\n",
    "        tmp = tuple(sorted(word))\n",
    "        word_map[tmp] = word_map.get(tmp, 0) + 1\n",
    "    ans = [1] * len(sentences)\n",
    "    for i in range(len(sentences)):\n",
    "        for word in sentences[i].split():\n",
    "            key = tuple(sorted(word))\n",
    "            if key in word_map:\n",
    "                ans[i] *= word_map[key]\n",
    "    return ans"
   ]
  },
  {
   "cell_type": "code",
   "execution_count": 20,
   "metadata": {},
   "outputs": [
    {
     "data": {
      "text/plain": [
       "[4, 2, 4]"
      ]
     },
     "execution_count": 20,
     "metadata": {},
     "output_type": "execute_result"
    }
   ],
   "source": [
    "words = [\"bats\",\"tabs\",\"in\",\"cat\",\"act\"]\n",
    "sentences = [\"cat the bats\", \"in the act\", \"act tabs in\"]\n",
    "solution(words, sentences) # output: [4, 2, 4]"
   ]
  },
  {
   "cell_type": "markdown",
   "metadata": {},
   "source": [
    "6. football scores"
   ]
  },
  {
   "cell_type": "code",
   "execution_count": 32,
   "metadata": {},
   "outputs": [
    {
     "name": "stdout",
     "output_type": "stream",
     "text": [
      "[2, 3]\n"
     ]
    }
   ],
   "source": [
    "def counts(teamA, teamB):\n",
    "    answer = []\n",
    "    teamA.sort()    \n",
    "    for score in teamB:\n",
    "        low, high = 0, len(teamA) - 1\n",
    "        while low <= high:\n",
    "            mid = (low + high) // 2\n",
    "            if teamA[mid] > score:\n",
    "                high = mid - 1\n",
    "            else:\n",
    "                low = mid + 1\n",
    "        answer.append(low)\n",
    "\n",
    "    return answer\n",
    "\n",
    "l1 = [1,2,3]\n",
    "l2 = [2,4]\n",
    "\n",
    "print(counts(l1, l2))"
   ]
  }
 ],
 "metadata": {
  "kernelspec": {
   "display_name": "Python 3.9.12 ('base')",
   "language": "python",
   "name": "python3"
  },
  "language_info": {
   "codemirror_mode": {
    "name": "ipython",
    "version": 3
   },
   "file_extension": ".py",
   "mimetype": "text/x-python",
   "name": "python",
   "nbconvert_exporter": "python",
   "pygments_lexer": "ipython3",
   "version": "3.9.12"
  },
  "orig_nbformat": 4,
  "vscode": {
   "interpreter": {
    "hash": "a288de8946f0e8975c296c3ff94d685fc9d04b5938dbefc020b3262d6c1314ec"
   }
  }
 },
 "nbformat": 4,
 "nbformat_minor": 2
}
