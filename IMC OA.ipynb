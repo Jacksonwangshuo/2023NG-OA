{
 "cells": [
  {
   "cell_type": "code",
   "execution_count": 51,
   "metadata": {},
   "outputs": [],
   "source": [
    "from math import sqrt\n",
    "def reachingPoints(sx, sy, tx, ty,c):\n",
    "    def dfs(x, y):\n",
    "        if x < sx or y < sy:#小于则无法转换\n",
    "            return False\n",
    "        elif x == sx and y == sy:#可以转换\n",
    "            return True   \n",
    "        if sqrt(x+y) == int(sqrt(x+y)):\n",
    "            return False\n",
    "\n",
    "        if x >= y:\n",
    "            tmp = []\n",
    "            if x-c>=sx and y-c>=sy:\n",
    "                tmp.append([x-y,y])\n",
    "                tmp.append([x-c,y-c])\n",
    "            else:\n",
    "                tmp.append([x-y,y])\n",
    "            print(tmp)\n",
    "            for point in tmp:\n",
    "                res = dfs(point[0], point[1])\n",
    "                if res:\n",
    "                    return True\n",
    "\n",
    "        if x < y:\n",
    "            tmp = []\n",
    "            if x-c>=sx and y-c>=sy:\n",
    "                tmp.append([x,y-x])\n",
    "                tmp.append([x-c,y-c])\n",
    "            else:\n",
    "                tmp.append([x,y-x])\n",
    "            print(tmp)\n",
    "            for point in tmp:\n",
    "                res = dfs(point[0], point[1])\n",
    "                if res:\n",
    "                    return True\n",
    "        \n",
    "        return False\n",
    "    \n",
    "    return dfs(tx,ty)\n",
    "    "
   ]
  },
  {
   "cell_type": "code",
   "execution_count": 46,
   "metadata": {},
   "outputs": [
    {
     "data": {
      "text/plain": [
       "True"
      ]
     },
     "execution_count": 46,
     "metadata": {},
     "output_type": "execute_result"
    }
   ],
   "source": [
    "reachingPoints(1,4,7,6,1)"
   ]
  },
  {
   "cell_type": "code",
   "execution_count": 47,
   "metadata": {},
   "outputs": [
    {
     "data": {
      "text/plain": [
       "True"
      ]
     },
     "execution_count": 47,
     "metadata": {},
     "output_type": "execute_result"
    }
   ],
   "source": [
    "reachingPoints(2,1,3,5,1)"
   ]
  },
  {
   "cell_type": "code",
   "execution_count": 52,
   "metadata": {},
   "outputs": [
    {
     "name": "stdout",
     "output_type": "stream",
     "text": [
      "[[4, 3]]\n",
      "[[1, 3]]\n"
     ]
    },
    {
     "data": {
      "text/plain": [
       "False"
      ]
     },
     "execution_count": 52,
     "metadata": {},
     "output_type": "execute_result"
    }
   ],
   "source": [
    "reachingPoints(1,1,4,7,6)"
   ]
  },
  {
   "cell_type": "code",
   "execution_count": 53,
   "metadata": {},
   "outputs": [
    {
     "data": {
      "text/plain": [
       "False"
      ]
     },
     "execution_count": 53,
     "metadata": {},
     "output_type": "execute_result"
    }
   ],
   "source": [
    "reachingPoints(1,4,3,6,4)"
   ]
  },
  {
   "cell_type": "code",
   "execution_count": null,
   "metadata": {},
   "outputs": [],
   "source": []
  },
  {
   "cell_type": "code",
   "execution_count": null,
   "metadata": {},
   "outputs": [],
   "source": []
  },
  {
   "cell_type": "code",
   "execution_count": null,
   "metadata": {},
   "outputs": [],
   "source": []
  },
  {
   "cell_type": "code",
   "execution_count": null,
   "metadata": {},
   "outputs": [],
   "source": []
  },
  {
   "cell_type": "code",
   "execution_count": null,
   "metadata": {},
   "outputs": [],
   "source": []
  }
 ],
 "metadata": {
  "kernelspec": {
   "display_name": "Python 3.9.12 ('base')",
   "language": "python",
   "name": "python3"
  },
  "language_info": {
   "codemirror_mode": {
    "name": "ipython",
    "version": 3
   },
   "file_extension": ".py",
   "mimetype": "text/x-python",
   "name": "python",
   "nbconvert_exporter": "python",
   "pygments_lexer": "ipython3",
   "version": "3.9.12"
  },
  "orig_nbformat": 4,
  "vscode": {
   "interpreter": {
    "hash": "a288de8946f0e8975c296c3ff94d685fc9d04b5938dbefc020b3262d6c1314ec"
   }
  }
 },
 "nbformat": 4,
 "nbformat_minor": 2
}
