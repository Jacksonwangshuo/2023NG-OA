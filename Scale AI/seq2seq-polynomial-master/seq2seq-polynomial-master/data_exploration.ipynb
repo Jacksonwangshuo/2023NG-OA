{
 "cells": [
  {
   "cell_type": "code",
   "execution_count": 1,
   "id": "strong-launch",
   "metadata": {},
   "outputs": [],
   "source": [
    "import re\n",
    "import string\n",
    "import random\n",
    "import collections\n",
    "\n",
    "from tqdm import tqdm"
   ]
  },
  {
   "cell_type": "code",
   "execution_count": 2,
   "id": "silent-nothing",
   "metadata": {},
   "outputs": [
    {
     "name": "stderr",
     "output_type": "stream",
     "text": [
      "100%|██████████| 1000000/1000000 [00:01<00:00, 940738.87it/s]\n"
     ]
    }
   ],
   "source": [
    "# read input text file into a list of tuples such that:\n",
    "# tuple at 0 = input seq = factored expression\n",
    "# tuple at 1 = output seq = expanded expression\n",
    "pairs = []\n",
    "with open(\"data/train.txt\") as fi:\n",
    "    raw_text = fi.read()\n",
    "    for line in tqdm(raw_text.splitlines()):\n",
    "        pairs.append(line.split(\"=\"))\n",
    "        assert len(pairs[-1]) == 2"
   ]
  },
  {
   "cell_type": "code",
   "execution_count": 3,
   "id": "identical-publicity",
   "metadata": {},
   "outputs": [
    {
     "data": {
      "text/plain": [
       "1000000"
      ]
     },
     "execution_count": 3,
     "metadata": {},
     "output_type": "execute_result"
    }
   ],
   "source": [
    "# number of examples\n",
    "len(pairs)"
   ]
  },
  {
   "cell_type": "code",
   "execution_count": 4,
   "id": "level-transcription",
   "metadata": {},
   "outputs": [
    {
     "data": {
      "text/plain": [
       "29"
      ]
     },
     "execution_count": 4,
     "metadata": {},
     "output_type": "execute_result"
    }
   ],
   "source": [
    "# max length of input (expected <= 29)\n",
    "max(list(map(lambda x: len(x[0]), pairs)))"
   ]
  },
  {
   "cell_type": "code",
   "execution_count": 5,
   "id": "existing-field",
   "metadata": {},
   "outputs": [
    {
     "data": {
      "text/plain": [
       "28"
      ]
     },
     "execution_count": 5,
     "metadata": {},
     "output_type": "execute_result"
    }
   ],
   "source": [
    "# max length of output (expected <= 29)\n",
    "max(list(map(lambda x: len(x[1]), pairs)))"
   ]
  },
  {
   "cell_type": "code",
   "execution_count": 6,
   "id": "round-browse",
   "metadata": {},
   "outputs": [
    {
     "name": "stdout",
     "output_type": "stream",
     "text": [
      "              input (factored)  |  output (expanded)             \n",
      "-----------------------------------------------------------------\n",
      "             (29-9*n)*(3*n+10)  =  -27*n**2-3*n+290              \n",
      "               (n+17)*(6*n+14)  =  6*n**2+116*n+238              \n",
      "                       15*y**2  =  15*y**2                       \n",
      "                 (t-8)*(8*t-4)  =  8*t**2-68*t+32                \n",
      "                     7*s*(4-s)  =  -7*s**2+28*s                  \n",
      "                    -i*(6*i-2)  =  -6*i**2+2*i                   \n",
      "                 (2-4*h)*(h+4)  =  -4*h**2-14*h+8                \n",
      "                  (k-5)*(k+13)  =  k**2+8*k-65                   \n",
      "                (21-9*n)*(n+4)  =  -9*n**2-15*n+84               \n",
      "                (s-32)*(4*s+6)  =  4*s**2-122*s-192              \n",
      "            (-2*x-21)*(8*x-31)  =  -16*x**2-106*x+651            \n",
      "                       21*c**2  =  21*c**2                       \n",
      "             (30-9*x)*(8*x+15)  =  -72*x**2+105*x+450            \n",
      "             (4*n+11)*(4*n+15)  =  16*n**2+104*n+165             \n",
      "                    n*(6*n+13)  =  6*n**2+13*n                   \n",
      "               (30-o)*(8*o-25)  =  -8*o**2+265*o-750             \n",
      "                  (12-s)*(s-5)  =  -s**2+17*s-60                 \n",
      "                     2*a*(4-a)  =  -2*a**2+8*a                   \n",
      "                    6*o*(o+15)  =  6*o**2+90*o                   \n",
      "                 (2-3*k)*(k+3)  =  -3*k**2-7*k+6                 \n",
      "                 -4*o*(6*o+25)  =  -24*o**2-100*o                \n",
      "                (-i-19)*(i-21)  =  -i**2+2*i+399                 \n",
      "               (x+29)*(4*x+26)  =  4*x**2+142*x+754              \n",
      "            (-9*n-9)*(-4*n-10)  =  36*n**2+126*n+90              \n",
      "                 -5*s*(-6*s-5)  =  30*s**2+25*s                  \n",
      "             (4-2*y)*(-2*y-14)  =  4*y**2+20*y-56                \n",
      "             (2*i-20)*(5*i+26)  =  10*i**2-48*i-520              \n",
      "             (25-5*n)*(-8*n-7)  =  40*n**2-165*n-175             \n",
      "                 -7*t*(-7*t-4)  =  49*t**2+28*t                  \n",
      "               (14-2*n)*(n-23)  =  -2*n**2+60*n-322              \n"
     ]
    }
   ],
   "source": [
    "# 10 random examples\n",
    "print(f\"{'input (factored)':>30}  |  {'output (expanded)':30}\")\n",
    "print(\"-\"*(30*2+5))\n",
    "for factored, expanded in random.sample(pairs, 30):\n",
    "    print(f\"{factored:>30}  =  {expanded:30}\")"
   ]
  },
  {
   "cell_type": "code",
   "execution_count": 7,
   "id": "coordinate-bradley",
   "metadata": {},
   "outputs": [],
   "source": [
    "def freq(pattern, s):\n",
    "    return collections.Counter(re.findall(pattern, s)).most_common()"
   ]
  },
  {
   "cell_type": "code",
   "execution_count": 8,
   "id": "serious-difference",
   "metadata": {},
   "outputs": [
    {
     "data": {
      "text/plain": [
       "[('*', 6296348),\n",
       " ('-', 2932951),\n",
       " ('2', 2739472),\n",
       " ('(', 1717013),\n",
       " (')', 1717013),\n",
       " ('1', 1551639),\n",
       " ('+', 1249605),\n",
       " ('=', 1000000),\n",
       " ('4', 952516),\n",
       " ('3', 950998),\n",
       " ('6', 854153),\n",
       " ('5', 803947),\n",
       " ('8', 799495),\n",
       " ('7', 646955),\n",
       " ('0', 621755),\n",
       " ('s', 568438),\n",
       " ('n', 566389),\n",
       " ('i', 528183),\n",
       " ('9', 500412),\n",
       " ('t', 285215),\n",
       " ('a', 284688),\n",
       " ('c', 284521),\n",
       " ('o', 283088),\n",
       " ('y', 246024),\n",
       " ('z', 245599),\n",
       " ('k', 245042),\n",
       " ('h', 244132),\n",
       " ('j', 244094),\n",
       " ('x', 243916)]"
      ]
     },
     "execution_count": 8,
     "metadata": {},
     "output_type": "execute_result"
    }
   ],
   "source": [
    "# chars\n",
    "freq(\".\", raw_text)"
   ]
  },
  {
   "cell_type": "code",
   "execution_count": 9,
   "id": "balanced-trader",
   "metadata": {},
   "outputs": [
    {
     "data": {
      "text/plain": [
       "[('s', 568438),\n",
       " ('n', 566389),\n",
       " ('i', 528183),\n",
       " ('t', 285215),\n",
       " ('a', 284688),\n",
       " ('c', 284521),\n",
       " ('o', 283088),\n",
       " ('y', 246024),\n",
       " ('z', 245599),\n",
       " ('k', 245042),\n",
       " ('h', 244132),\n",
       " ('j', 244094),\n",
       " ('x', 243916)]"
      ]
     },
     "execution_count": 9,
     "metadata": {},
     "output_type": "execute_result"
    }
   ],
   "source": [
    "# lowercase chars\n",
    "freq(\"[a-z]\", raw_text)"
   ]
  },
  {
   "cell_type": "code",
   "execution_count": 10,
   "id": "abroad-charles",
   "metadata": {},
   "outputs": [
    {
     "data": {
      "text/plain": [
       "[('s', 489862),\n",
       " ('i', 488935),\n",
       " ('n', 487884),\n",
       " ('y', 246024),\n",
       " ('t', 245958),\n",
       " ('z', 245599),\n",
       " ('a', 245431),\n",
       " ('c', 245193),\n",
       " ('k', 245042),\n",
       " ('h', 244132),\n",
       " ('j', 244094),\n",
       " ('x', 243916),\n",
       " ('o', 243760),\n",
       " ('cos', 39328),\n",
       " ('tan', 39257),\n",
       " ('sin', 39248)]"
      ]
     },
     "execution_count": 10,
     "metadata": {},
     "output_type": "execute_result"
    }
   ],
   "source": [
    "# lowercase terms\n",
    "freq(\"[a-z]+\", raw_text)"
   ]
  },
  {
   "cell_type": "code",
   "execution_count": 11,
   "id": "powerful-capital",
   "metadata": {},
   "outputs": [
    {
     "data": {
      "text/plain": [
       "[('2', 2739472),\n",
       " ('1', 1551639),\n",
       " ('4', 952516),\n",
       " ('3', 950998),\n",
       " ('6', 854153),\n",
       " ('5', 803947),\n",
       " ('8', 799495),\n",
       " ('7', 646955),\n",
       " ('0', 621755),\n",
       " ('9', 500412)]"
      ]
     },
     "execution_count": 11,
     "metadata": {},
     "output_type": "execute_result"
    }
   ],
   "source": [
    "# digit chars\n",
    "freq(\"[0-9]\", raw_text)"
   ]
  },
  {
   "cell_type": "code",
   "execution_count": 104,
   "id": "headed-inflation",
   "metadata": {},
   "outputs": [
    {
     "name": "stdout",
     "output_type": "stream",
     "text": [
      "603\n",
      "[('2', 1340750), ('6', 321799), ('8', 321040), ('4', 310022), ('3', 300074)]\n",
      "[('508', 1), ('481', 1), ('492', 1), ('499', 1), ('501', 1)]\n"
     ]
    }
   ],
   "source": [
    "# digit terms (numbers)\n",
    "numbers = freq(\"[0-9]+\", raw_text)\n",
    "print(len(numbers))\n",
    "print(numbers[:5])\n",
    "print(numbers[-5:])"
   ]
  },
  {
   "cell_type": "code",
   "execution_count": 111,
   "id": "compliant-northeast",
   "metadata": {},
   "outputs": [
    {
     "data": {
      "text/plain": [
       "[('*', 6296348),\n",
       " ('-', 2932951),\n",
       " ('(', 1717013),\n",
       " (')', 1717013),\n",
       " ('+', 1249605),\n",
       " ('=', 1000000)]"
      ]
     },
     "execution_count": 111,
     "metadata": {},
     "output_type": "execute_result"
    }
   ],
   "source": [
    "# symbol chars\n",
    "freq(\"\\*|-|\\(|\\)|\\+|=\", raw_text)"
   ]
  },
  {
   "cell_type": "code",
   "execution_count": 112,
   "id": "naughty-cooperation",
   "metadata": {},
   "outputs": [
    {
     "data": {
      "text/plain": [
       "[('*', 3248644),\n",
       " ('+', 1226446),\n",
       " ('**', 1008562),\n",
       " (')=', 958297),\n",
       " ('(', 760670),\n",
       " (')*(', 631813),\n",
       " ('*(', 317284),\n",
       " (')', 43644),\n",
       " ('=', 40853),\n",
       " (')**', 32287),\n",
       " (')+', 23159),\n",
       " (')*', 7697),\n",
       " ('))*(', 7246),\n",
       " ('))*', 1958),\n",
       " ('))=', 850),\n",
       " ('))**', 4)]"
      ]
     },
     "execution_count": 112,
     "metadata": {},
     "output_type": "execute_result"
    }
   ],
   "source": [
    "# symbol terms\n",
    "freq(\"[\\*|-|\\(|\\)|\\+|=]+\", raw_text)"
   ]
  },
  {
   "cell_type": "markdown",
   "id": "weekly-score",
   "metadata": {},
   "source": [
    "### Language\n",
    "- **digits:** `0, 1, 2, 3, 4, 5, 6, 7, 8, 9`\n",
    "- **variables:** `a, c, h, i, j, k, n, o, s, t, x, y, z`\n",
    "- **parentheses:** `(, )`\n",
    "- **math operators:** `*, **, +, -`\n",
    "- **trig functions:** `sin, cos, tan`\n",
    "\n",
    "Potential experimentation with languages:\n",
    "- purely character based lang\n",
    "- replace digits with numbers\n",
    "- use all symbol terms"
   ]
  },
  {
   "cell_type": "code",
   "execution_count": 122,
   "id": "flying-beauty",
   "metadata": {},
   "outputs": [],
   "source": [
    "# final terms\n",
    "vocab_pattern = \"sin|cos|tan|\\d|\\w|\\(|\\)|\\+|-|\\*+\"\n",
    "vocab = freq(vocab_pattern, raw_text)"
   ]
  },
  {
   "cell_type": "code",
   "execution_count": 123,
   "id": "positive-camcorder",
   "metadata": {},
   "outputs": [
    {
     "data": {
      "text/plain": [
       "32"
      ]
     },
     "execution_count": 123,
     "metadata": {},
     "output_type": "execute_result"
    }
   ],
   "source": [
    "len(vocab)"
   ]
  },
  {
   "cell_type": "code",
   "execution_count": 125,
   "id": "upper-creek",
   "metadata": {},
   "outputs": [
    {
     "data": {
      "text/plain": [
       "[('*', 4214642),\n",
       " ('-', 2932951),\n",
       " ('2', 2739472),\n",
       " ('(', 1717013),\n",
       " (')', 1717013),\n",
       " ('1', 1551639),\n",
       " ('+', 1249605),\n",
       " ('**', 1040853),\n",
       " ('4', 952516),\n",
       " ('3', 950998),\n",
       " ('6', 854153),\n",
       " ('5', 803947),\n",
       " ('8', 799495),\n",
       " ('7', 646955),\n",
       " ('0', 621755),\n",
       " ('9', 500412),\n",
       " ('s', 489862),\n",
       " ('i', 488935),\n",
       " ('n', 487884),\n",
       " ('y', 246024),\n",
       " ('t', 245958),\n",
       " ('z', 245599),\n",
       " ('a', 245431),\n",
       " ('c', 245193),\n",
       " ('k', 245042),\n",
       " ('h', 244132),\n",
       " ('j', 244094),\n",
       " ('x', 243916),\n",
       " ('o', 243760),\n",
       " ('cos', 39328),\n",
       " ('tan', 39257),\n",
       " ('sin', 39248)]"
      ]
     },
     "execution_count": 125,
     "metadata": {},
     "output_type": "execute_result"
    }
   ],
   "source": [
    "vocab"
   ]
  },
  {
   "cell_type": "code",
   "execution_count": 139,
   "id": "uniform-provision",
   "metadata": {},
   "outputs": [],
   "source": [
    "# check if input language and output languages are the same\n",
    "raw_factored = \"\\n\".join([factored for factored, _ in pairs])\n",
    "raw_expanded = \"\\n\".join([expanded for _, expanded in pairs])\n",
    "\n",
    "factored_vocab = freq(vocab_pattern, raw_factored)\n",
    "expanded_vocab = freq(vocab_pattern, raw_expanded)"
   ]
  },
  {
   "cell_type": "code",
   "execution_count": 143,
   "id": "binding-marking",
   "metadata": {},
   "outputs": [],
   "source": [
    "assert set([term for term, _ in factored_vocab]) == set([term for term, _ in expanded_vocab]) == set([term for term, _ in vocab])"
   ]
  },
  {
   "cell_type": "code",
   "execution_count": 144,
   "id": "stretch-congo",
   "metadata": {},
   "outputs": [
    {
     "data": {
      "text/plain": [
       "[('*', 2351588),\n",
       " ('(', 1658131),\n",
       " (')', 1658131),\n",
       " ('-', 1645524),\n",
       " ('2', 915989),\n",
       " ('1', 717682),\n",
       " ('3', 466374),\n",
       " ('+', 452922),\n",
       " ('4', 340647),\n",
       " ('6', 338982),\n",
       " ('5', 338830),\n",
       " ('8', 338405),\n",
       " ('7', 335316),\n",
       " ('s', 245081),\n",
       " ('9', 244696),\n",
       " ('i', 244626),\n",
       " ('n', 244100),\n",
       " ('0', 155302),\n",
       " ('y', 123092),\n",
       " ('t', 123055),\n",
       " ('z', 122866),\n",
       " ('a', 122808),\n",
       " ('c', 122658),\n",
       " ('k', 122596),\n",
       " ('h', 122155),\n",
       " ('j', 122133),\n",
       " ('x', 122021),\n",
       " ('o', 121956),\n",
       " ('**', 40853),\n",
       " ('cos', 19675),\n",
       " ('sin', 19640),\n",
       " ('tan', 19636)]"
      ]
     },
     "execution_count": 144,
     "metadata": {},
     "output_type": "execute_result"
    }
   ],
   "source": [
    "factored_vocab"
   ]
  },
  {
   "cell_type": "code",
   "execution_count": 145,
   "id": "removed-result",
   "metadata": {},
   "outputs": [
    {
     "data": {
      "text/plain": [
       "[('*', 1863054),\n",
       " ('2', 1823483),\n",
       " ('-', 1287427),\n",
       " ('**', 1000000),\n",
       " ('1', 833957),\n",
       " ('+', 796683),\n",
       " ('4', 611869),\n",
       " ('6', 515171),\n",
       " ('3', 484624),\n",
       " ('0', 466453),\n",
       " ('5', 465117),\n",
       " ('8', 461090),\n",
       " ('7', 311639),\n",
       " ('9', 255716),\n",
       " ('s', 244781),\n",
       " ('i', 244309),\n",
       " ('n', 243784),\n",
       " ('y', 122932),\n",
       " ('t', 122903),\n",
       " ('z', 122733),\n",
       " ('a', 122623),\n",
       " ('c', 122535),\n",
       " ('k', 122446),\n",
       " ('h', 121977),\n",
       " ('j', 121961),\n",
       " ('x', 121895),\n",
       " ('o', 121804),\n",
       " ('(', 58882),\n",
       " (')', 58882),\n",
       " ('cos', 19653),\n",
       " ('tan', 19621),\n",
       " ('sin', 19608)]"
      ]
     },
     "execution_count": 145,
     "metadata": {},
     "output_type": "execute_result"
    }
   ],
   "source": [
    "expanded_vocab"
   ]
  },
  {
   "cell_type": "code",
   "execution_count": 149,
   "id": "looking-score",
   "metadata": {},
   "outputs": [
    {
     "name": "stderr",
     "output_type": "stream",
     "text": [
      "100%|██████████| 1000000/1000000 [00:05<00:00, 175464.55it/s]\n"
     ]
    }
   ],
   "source": [
    "# test that regex pattern preserves information\n",
    "for factored, expanded in tqdm(pairs):\n",
    "    factored_terms = re.findall(vocab_pattern, factored)\n",
    "    expanded_terms = re.findall(vocab_pattern, expanded)\n",
    "    assert \"\".join(factored_terms) == factored\n",
    "    assert \"\".join(expanded_terms) == expanded"
   ]
  },
  {
   "cell_type": "code",
   "execution_count": null,
   "id": "western-facing",
   "metadata": {},
   "outputs": [],
   "source": []
  }
 ],
 "metadata": {
  "kernelspec": {
   "display_name": "Python 3.9.12 ('base')",
   "language": "python",
   "name": "python3"
  },
  "language_info": {
   "codemirror_mode": {
    "name": "ipython",
    "version": 3
   },
   "file_extension": ".py",
   "mimetype": "text/x-python",
   "name": "python",
   "nbconvert_exporter": "python",
   "pygments_lexer": "ipython3",
   "version": "3.9.12"
  },
  "vscode": {
   "interpreter": {
    "hash": "a288de8946f0e8975c296c3ff94d685fc9d04b5938dbefc020b3262d6c1314ec"
   }
  }
 },
 "nbformat": 4,
 "nbformat_minor": 5
}
